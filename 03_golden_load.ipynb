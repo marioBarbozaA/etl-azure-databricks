{
 "cells": [
  {
   "cell_type": "code",
   "execution_count": 0,
   "metadata": {
    "application/vnd.databricks.v1+cell": {
     "cellMetadata": {
      "byteLimit": 2048000,
      "rowLimit": 10000
     },
     "inputWidgets": {},
     "nuid": "c7998d67-b623-40a6-812f-84ad709d4452",
     "showTitle": false,
     "tableResultSettingsMap": {},
     "title": ""
    }
   },
   "outputs": [],
   "source": [
    "sp_client_secret = dbutils.secrets.get(\n",
    "    scope=\"kv-etl-scope\", \n",
    "    key=\"spn-etl-gold-sql-secret\"\n",
    ")\n",
    "\n",
    "print(\"Retrieved the service principal secret securely!\")\n",
    "\n",
    "spark.conf.set(\n",
    "  \"fs.azure.account.key.stetlprojectdeveus.dfs.core.windows.net\",\n",
    "  dbutils.secrets.get(scope=\"kv-etl-scope\", key=\"storage-account-key\")\n",
    ")"
   ]
  },
  {
   "cell_type": "code",
   "execution_count": 0,
   "metadata": {
    "application/vnd.databricks.v1+cell": {
     "cellMetadata": {
      "byteLimit": 2048000,
      "rowLimit": 10000
     },
     "inputWidgets": {},
     "nuid": "4b2696bd-33ba-46f3-b488-67e6053e452e",
     "showTitle": false,
     "tableResultSettingsMap": {},
     "title": ""
    }
   },
   "outputs": [],
   "source": [
    "sp_client_id = dbutils.secrets.get(scope=\"kv-etl-scope\", key=\"spn-etl-gold-sql-clientid\")\n",
    "tenant_id = dbutils.secrets.get(scope=\"kv-etl-scope\", key=\"spn-etl-gold-sql-tenantid\")\n",
    "sp_client_secret = dbutils.secrets.get(scope=\"kv-etl-scope\", key=\"spn-etl-gold-sql-secret\")\n",
    "\n",
    "jdbc_server = \"sqlsv-etldatabricks-dev-eastus2.database.windows.net\"\n",
    "jdbc_database = \"sqldb-etldatabricks-dev\"\n"
   ]
  },
  {
   "cell_type": "code",
   "execution_count": 0,
   "metadata": {
    "application/vnd.databricks.v1+cell": {
     "cellMetadata": {
      "byteLimit": 2048000,
      "rowLimit": 10000
     },
     "inputWidgets": {},
     "nuid": "d7430be6-2ef9-453f-94bc-5495ff4106ad",
     "showTitle": false,
     "tableResultSettingsMap": {},
     "title": ""
    }
   },
   "outputs": [],
   "source": [
    "jdbc_port = \"1433\"\n",
    "jdbc_url = f\"\"\"jdbc:sqlserver://{jdbc_server}:{jdbc_port};database={jdbc_database};\n",
    "encrypt=true;trustServerCertificate=false;hostNameInCertificate=*.database.windows.net;loginTimeout=30;\"\"\"\n"
   ]
  },
  {
   "cell_type": "code",
   "execution_count": 0,
   "metadata": {
    "application/vnd.databricks.v1+cell": {
     "cellMetadata": {
      "byteLimit": 2048000,
      "rowLimit": 10000
     },
     "inputWidgets": {},
     "nuid": "e65c3119-2b62-47b0-ac23-ab8786f1f422",
     "showTitle": false,
     "tableResultSettingsMap": {},
     "title": ""
    }
   },
   "outputs": [],
   "source": [
    "silver_input_path = \"abfss://datalake@stetlprojectdeveus.dfs.core.windows.net/silver/\"\n",
    "\n",
    "df_silver = spark.read.parquet(silver_input_path)\n",
    "\n",
    "print(f\"Silver row count: {df_silver.count()}\")\n",
    "df_silver.printSchema()\n",
    "display(df_silver.limit(10))\n"
   ]
  },
  {
   "cell_type": "code",
   "execution_count": 0,
   "metadata": {
    "application/vnd.databricks.v1+cell": {
     "cellMetadata": {
      "byteLimit": 2048000,
      "rowLimit": 10000
     },
     "inputWidgets": {},
     "nuid": "0ca33f14-9717-412c-82dd-6da62b27a38f",
     "showTitle": false,
     "tableResultSettingsMap": {},
     "title": ""
    }
   },
   "outputs": [],
   "source": [
    "from pyspark.sql import functions as F\n",
    "\n",
    "df_gold = (\n",
    "    df_silver\n",
    "    .groupBy(\"Department\")\n",
    "    .agg(\n",
    "        F.count(\"*\").alias(\"Total_Employees\"),\n",
    "        F.round(F.avg(\"Monthly_Salary\"), 2).alias(\"Avg_Monthly_Salary\"),\n",
    "        F.round(F.avg(\"Employee_Satisfaction_Score\"), 2).alias(\"Avg_Satisfaction\"),\n",
    "        F.round(F.avg(\"Performance_Score\"), 2).alias(\"Avg_Performance\"),\n",
    "        F.sum(F.when(F.col(\"HasResigned\") == True, 1).otherwise(0)).alias(\"Resigned_Count\")\n",
    "    )\n",
    "    .orderBy(\"Department\")\n",
    ")\n"
   ]
  },
  {
   "cell_type": "code",
   "execution_count": 0,
   "metadata": {
    "application/vnd.databricks.v1+cell": {
     "cellMetadata": {
      "byteLimit": 2048000,
      "rowLimit": 10000
     },
     "inputWidgets": {},
     "nuid": "6e494f06-bb5d-445a-9129-771669543dc4",
     "showTitle": false,
     "tableResultSettingsMap": {},
     "title": ""
    }
   },
   "outputs": [],
   "source": [
    "display(df_gold)\n"
   ]
  },
  {
   "cell_type": "code",
   "execution_count": 0,
   "metadata": {
    "application/vnd.databricks.v1+cell": {
     "cellMetadata": {
      "byteLimit": 2048000,
      "rowLimit": 10000
     },
     "inputWidgets": {},
     "nuid": "90688bb8-d81c-47a8-bf71-88cf590ef0ed",
     "showTitle": false,
     "tableResultSettingsMap": {},
     "title": ""
    }
   },
   "outputs": [],
   "source": [
    "df_gold.write \\\n",
    "    .format(\"jdbc\") \\\n",
    "    .mode(\"overwrite\") \\\n",
    "    .option(\"url\", jdbc_url) \\\n",
    "    .option(\"dbtable\", \"dbo.Gold_DepartmentSummary\") \\\n",
    "    .option(\"user\", sp_client_id) \\\n",
    "    .option(\"password\", sp_client_secret) \\\n",
    "    .option(\"authentication\", \"ActiveDirectoryServicePrincipal\") \\\n",
    "    .save()\n"
   ]
  },
  {
   "cell_type": "code",
   "execution_count": 0,
   "metadata": {
    "application/vnd.databricks.v1+cell": {
     "cellMetadata": {
      "byteLimit": 2048000,
      "rowLimit": 10000
     },
     "inputWidgets": {},
     "nuid": "f337622e-2abf-4de0-98b4-0520933b5e08",
     "showTitle": false,
     "tableResultSettingsMap": {},
     "title": ""
    }
   },
   "outputs": [],
   "source": [
    "from pyspark.sql.functions import avg, count, round, sum, col\n",
    "\n",
    "df_gold_kpis = df_silver.groupBy(\"Department\").agg(\n",
    "    count(\"*\").alias(\"Employee_Count\"),\n",
    "    round(avg(\"Monthly_Salary\"), 2).alias(\"Avg_Salary\"),\n",
    "    round(avg(\"Employee_Satisfaction_Score\"), 2).alias(\"Avg_Satisfaction\"),\n",
    "    sum(col(\"HasResigned\").cast(\"int\")).alias(\"Resignations\")\n",
    ")\n"
   ]
  },
  {
   "cell_type": "code",
   "execution_count": 0,
   "metadata": {
    "application/vnd.databricks.v1+cell": {
     "cellMetadata": {
      "byteLimit": 2048000,
      "rowLimit": 10000
     },
     "inputWidgets": {},
     "nuid": "7506a8bd-4a6c-415e-8ace-b21840f4987b",
     "showTitle": false,
     "tableResultSettingsMap": {},
     "title": ""
    }
   },
   "outputs": [],
   "source": [
    "df_gold_top_promotions = df_silver.groupBy(\"Department\") \\\n",
    "    .agg(sum(\"Promotions\").alias(\"Total_Promotions\")) \\\n",
    "    .orderBy(\"Total_Promotions\", ascending=False)\n"
   ]
  },
  {
   "cell_type": "code",
   "execution_count": 0,
   "metadata": {
    "application/vnd.databricks.v1+cell": {
     "cellMetadata": {
      "byteLimit": 2048000,
      "rowLimit": 10000
     },
     "inputWidgets": {},
     "nuid": "9ebeb8f4-787b-479e-aad2-f6bd202b33ef",
     "showTitle": false,
     "tableResultSettingsMap": {},
     "title": ""
    }
   },
   "outputs": [],
   "source": [
    "df_gold_edu_salary = df_silver.groupBy(\"Education_Level\") \\\n",
    "    .agg(round(avg(\"Monthly_Salary\"), 2).alias(\"Avg_Salary\")) \\\n",
    "    .orderBy(\"Avg_Salary\", ascending=False)\n"
   ]
  },
  {
   "cell_type": "code",
   "execution_count": 0,
   "metadata": {
    "application/vnd.databricks.v1+cell": {
     "cellMetadata": {
      "byteLimit": 2048000,
      "rowLimit": 10000
     },
     "inputWidgets": {},
     "nuid": "70d8c8d8-b014-47e7-9c06-b3904d6bfe1b",
     "showTitle": false,
     "tableResultSettingsMap": {},
     "title": ""
    }
   },
   "outputs": [],
   "source": [
    "df_gold_work_satisfaction = df_silver.select(\n",
    "    \"Department\", \"Work_Hours_Per_Week\", \"Overtime_Hours\", \"Employee_Satisfaction_Score\"\n",
    ")\n"
   ]
  },
  {
   "cell_type": "code",
   "execution_count": 0,
   "metadata": {
    "application/vnd.databricks.v1+cell": {
     "cellMetadata": {
      "byteLimit": 2048000,
      "rowLimit": 10000
     },
     "inputWidgets": {},
     "nuid": "a76ad5c6-6dcc-44e1-9a27-b59a8b1a9cd2",
     "showTitle": false,
     "tableResultSettingsMap": {},
     "title": ""
    }
   },
   "outputs": [],
   "source": [
    "from pyspark.sql.functions import sum, col\n",
    "\n",
    "df_gold_resign_age = df_silver.groupBy(\"Age\") \\\n",
    "    .agg(\n",
    "        sum(col(\"HasResigned\").cast(\"int\")).alias(\"Total_Resignations\")\n",
    "    ) \\\n",
    "    .orderBy(\"Age\")\n"
   ]
  },
  {
   "cell_type": "code",
   "execution_count": 0,
   "metadata": {
    "application/vnd.databricks.v1+cell": {
     "cellMetadata": {
      "byteLimit": 2048000,
      "rowLimit": 10000
     },
     "inputWidgets": {},
     "nuid": "47f249ea-9515-411e-a215-106fa23a7f60",
     "showTitle": false,
     "tableResultSettingsMap": {},
     "title": ""
    }
   },
   "outputs": [],
   "source": [
    "from pyspark.sql.functions import count, round\n",
    "\n",
    "df_gold_resign_rate_age = df_silver.groupBy(\"Age\").agg(\n",
    "    count(\"*\").alias(\"Total_Employees\"),\n",
    "    sum(col(\"HasResigned\").cast(\"int\")).alias(\"Total_Resignations\"),\n",
    "    round(\n",
    "        (sum(col(\"HasResigned\").cast(\"int\")) / count(\"*\")) * 100, 2\n",
    "    ).alias(\"Resignation_Rate_Percentage\")\n",
    ").orderBy(\"Age\")\n"
   ]
  },
  {
   "cell_type": "code",
   "execution_count": 0,
   "metadata": {
    "application/vnd.databricks.v1+cell": {
     "cellMetadata": {
      "byteLimit": 2048000,
      "rowLimit": 10000
     },
     "inputWidgets": {},
     "nuid": "87f68d2d-f15c-46f8-9e5b-5b359f603e3e",
     "showTitle": false,
     "tableResultSettingsMap": {},
     "title": ""
    }
   },
   "outputs": [],
   "source": [
    "df_gold_kpis.write \\\n",
    "    .format(\"jdbc\") \\\n",
    "    .mode(\"overwrite\") \\\n",
    "    .option(\"url\", jdbc_url) \\\n",
    "    .option(\"dbtable\", \"dbo.Gold_DepartmentKPI\") \\\n",
    "    .option(\"user\", sp_client_id) \\\n",
    "    .option(\"password\", sp_client_secret) \\\n",
    "    .option(\"authentication\", \"ActiveDirectoryServicePrincipal\") \\\n",
    "    .save()\n"
   ]
  },
  {
   "cell_type": "code",
   "execution_count": 0,
   "metadata": {
    "application/vnd.databricks.v1+cell": {
     "cellMetadata": {
      "byteLimit": 2048000,
      "rowLimit": 10000
     },
     "inputWidgets": {},
     "nuid": "5d395bd8-b23d-4c72-9b56-c3350eb57ef8",
     "showTitle": false,
     "tableResultSettingsMap": {},
     "title": ""
    }
   },
   "outputs": [],
   "source": [
    "df_gold_resign_age.write \\\n",
    "    .format(\"jdbc\") \\\n",
    "    .mode(\"overwrite\") \\\n",
    "    .option(\"url\", jdbc_url) \\\n",
    "    .option(\"dbtable\", \"dbo.Gold_ResignationsByAge\") \\\n",
    "    .option(\"user\", sp_client_id) \\\n",
    "    .option(\"password\", sp_client_secret) \\\n",
    "    .option(\"authentication\", \"ActiveDirectoryServicePrincipal\") \\\n",
    "    .save()\n"
   ]
  },
  {
   "cell_type": "code",
   "execution_count": 0,
   "metadata": {
    "application/vnd.databricks.v1+cell": {
     "cellMetadata": {
      "byteLimit": 2048000,
      "rowLimit": 10000
     },
     "inputWidgets": {},
     "nuid": "f9ee0232-c3da-4685-9b6d-b5c185ef5959",
     "showTitle": false,
     "tableResultSettingsMap": {},
     "title": ""
    }
   },
   "outputs": [],
   "source": [
    "df_gold_work_satisfaction.write \\\n",
    "    .format(\"jdbc\") \\\n",
    "    .mode(\"overwrite\") \\\n",
    "    .option(\"url\", jdbc_url) \\\n",
    "    .option(\"dbtable\", \"dbo.Gold_WorkSatisfaction\") \\\n",
    "    .option(\"user\", sp_client_id) \\\n",
    "    .option(\"password\", sp_client_secret) \\\n",
    "    .option(\"authentication\", \"ActiveDirectoryServicePrincipal\") \\\n",
    "    .save()\n"
   ]
  },
  {
   "cell_type": "code",
   "execution_count": 0,
   "metadata": {
    "application/vnd.databricks.v1+cell": {
     "cellMetadata": {
      "byteLimit": 2048000,
      "rowLimit": 10000
     },
     "inputWidgets": {},
     "nuid": "34b4cbed-914a-48c8-bbd9-c50a870cd3c8",
     "showTitle": false,
     "tableResultSettingsMap": {},
     "title": ""
    }
   },
   "outputs": [],
   "source": [
    "df_gold_edu_salary.write \\\n",
    "    .format(\"jdbc\") \\\n",
    "    .mode(\"overwrite\") \\\n",
    "    .option(\"url\", jdbc_url) \\\n",
    "    .option(\"dbtable\", \"dbo.Gold_EducationSalary\") \\\n",
    "    .option(\"user\", sp_client_id) \\\n",
    "    .option(\"password\", sp_client_secret) \\\n",
    "    .option(\"authentication\", \"ActiveDirectoryServicePrincipal\") \\\n",
    "    .save()\n"
   ]
  },
  {
   "cell_type": "code",
   "execution_count": 0,
   "metadata": {
    "application/vnd.databricks.v1+cell": {
     "cellMetadata": {
      "byteLimit": 2048000,
      "rowLimit": 10000
     },
     "inputWidgets": {},
     "nuid": "47069468-cf1b-4327-a3c9-2f51bf0aa0fe",
     "showTitle": false,
     "tableResultSettingsMap": {},
     "title": ""
    }
   },
   "outputs": [],
   "source": [
    "df_gold_top_promotions.write \\\n",
    "    .format(\"jdbc\") \\\n",
    "    .mode(\"overwrite\") \\\n",
    "    .option(\"url\", jdbc_url) \\\n",
    "    .option(\"dbtable\", \"dbo.Gold_TopDepartments_Promotions\") \\\n",
    "    .option(\"user\", sp_client_id) \\\n",
    "    .option(\"password\", sp_client_secret) \\\n",
    "    .option(\"authentication\", \"ActiveDirectoryServicePrincipal\") \\\n",
    "    .save()\n"
   ]
  },
  {
   "cell_type": "code",
   "execution_count": 0,
   "metadata": {
    "application/vnd.databricks.v1+cell": {
     "cellMetadata": {
      "byteLimit": 2048000,
      "rowLimit": 10000
     },
     "inputWidgets": {},
     "nuid": "f3ee5115-4220-4f87-99b6-3a7aca6e7390",
     "showTitle": false,
     "tableResultSettingsMap": {},
     "title": ""
    }
   },
   "outputs": [],
   "source": [
    "df_gold_top_promotions.write \\\n",
    "    .format(\"jdbc\") \\\n",
    "    .mode(\"overwrite\") \\\n",
    "    .option(\"url\", jdbc_url) \\\n",
    "    .option(\"dbtable\", \"dbo.Gold_TopDepartments_Promotions\") \\\n",
    "    .option(\"user\", sp_client_id) \\\n",
    "    .option(\"password\", sp_client_secret) \\\n",
    "    .option(\"authentication\", \"ActiveDirectoryServicePrincipal\") \\\n",
    "    .save()\n"
   ]
  }
 ],
 "metadata": {
  "application/vnd.databricks.v1+notebook": {
   "computePreferences": null,
   "dashboards": [],
   "environmentMetadata": {
    "base_environment": "",
    "environment_version": "2"
   },
   "inputWidgetPreferences": null,
   "language": "python",
   "notebookMetadata": {
    "mostRecentlyExecutedCommandWithImplicitDF": {
     "commandId": 8246842995243823,
     "dataframes": [
      "_sqldf"
     ]
    },
    "pythonIndentUnit": 4
   },
   "notebookName": "03_golden_load",
   "widgets": {}
  },
  "language_info": {
   "name": "python"
  }
 },
 "nbformat": 4,
 "nbformat_minor": 0
}
